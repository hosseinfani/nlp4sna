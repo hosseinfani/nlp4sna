{
  "nbformat": 4,
  "nbformat_minor": 0,
  "metadata": {
    "colab": {
      "name": "Lec08.ipynb",
      "provenance": []
    },
    "kernelspec": {
      "name": "python3",
      "display_name": "Python 3"
    }
  },
  "cells": [
    {
      "cell_type": "code",
      "source": [
        "import numpy as np\n",
        "import matplotlib.pyplot as plt\n",
        "\n",
        "np.random.seed(10)\n",
        "\n",
        "data_pos = np.random.rand(5, 2)\n",
        "data_neg = np.random.rand(5, 2)\n",
        "\n",
        "plt.scatter(data_pos[:,0],data_pos[:,1], marker='+')\n",
        "plt.scatter(data_neg[:,0],data_neg[:,1], marker='*')\n",
        "\n",
        "w1, b = np.random.rand(2)\n",
        "linepoints_x = np.linspace(0, 1, 10)\n",
        "plt.plot(linepoints_x, [w1 * x + b for x in  linepoints_x])"
      ],
      "metadata": {
        "colab": {
          "base_uri": "https://localhost:8080/",
          "height": 286
        },
        "id": "m_47J7D-i8_t",
        "outputId": "a1ede9bc-4879-48e0-daa2-f246dd9f6082"
      },
      "execution_count": null,
      "outputs": [
        {
          "output_type": "execute_result",
          "data": {
            "text/plain": [
              "[<matplotlib.lines.Line2D at 0x7f39ec18db90>]"
            ]
          },
          "metadata": {},
          "execution_count": 1
        },
        {
          "output_type": "display_data",
          "data": {
            "text/plain": [
              "<Figure size 432x288 with 1 Axes>"
            ],
            "image/png": "[encoded data removed]"
          },
          "metadata": {
            "needs_background": "light"
          }
        }
      ]
    },
    {
      "cell_type": "code",
      "source": [
        "#[x y 1][w1 -1 b]^T = w1x -y + b\n",
        "#sigmoid(w1x -y + b) if (x,y) is positive\n",
        "#(-1) log P(+|[x,y]+)\n",
        "import math\n",
        "\n",
        "def sigmoid(x):\n",
        "  return 1/(1 + np.exp(-x))\n",
        "\n",
        "sum_pos = 0\n",
        "for x,y in data_pos:\n",
        "  sum_pos += math.log(sigmoid(w1 * x - y + b))\n",
        "\n",
        "# 1 - sigmoid(w1x -y + b) if (x,y) is negative\n",
        "#(-1) log P(-|[x,y]-)\n",
        "sum_neg = 0\n",
        "for x,y in data_neg:\n",
        "  sum_neg += math.log(1 - sigmoid(w1 * x - y + b))\n",
        "\n",
        "sum = -1 * (sum_pos + sum_neg)\n",
        "sum"
      ],
      "metadata": {
        "colab": {
          "base_uri": "https://localhost:8080/"
        },
        "id": "S_KxDBEak514",
        "outputId": "c892abe5-a57f-4368-d848-dfdae81dd32b"
      },
      "execution_count": null,
      "outputs": [
        {
          "output_type": "execute_result",
          "data": {
            "text/plain": [
              "6.679830781312231"
            ]
          },
          "metadata": {},
          "execution_count": 2
        }
      ]
    },
    {
      "cell_type": "code",
      "source": [
        "#we have to minimize it toward 0 ==> better line ==> change w1 and b\n",
        "#gradient of sum ==> -1 * (sum_pos + sum_neg) over w1 and b\n",
        "#for positives: gradient of math.log(sigmoid(w1 * x - y + b)) over w1 and b\n",
        "#for negatives: gradient of math.log(1 - sigmoid(w1 * x - y + b)) over w1 and b"
      ],
      "metadata": {
        "id": "JbdVxPFlqb4J"
      },
      "execution_count": null,
      "outputs": []
    },
    {
      "cell_type": "code",
      "source": [
        "#1) ro_sigmoid_ro_x = sigmoid(x)(1-sigmoid(x))\n",
        "#2) ro_ln_ro_x = 1/x\n",
        "#3) f(g(x)) = f'(g(x)) * g'(x)\n",
        "#=> 1/sig * (sig * (1-sig)) * x over w1\n",
        "#=> 1/sig * (sig * (1-sig)) * 1 over b\n",
        "#w1 = w1 - avg(gradient) over w1\n",
        "#b = b - avg(gradient) over b"
      ],
      "metadata": {
        "id": "mE7AlPSfrp3t"
      },
      "execution_count": null,
      "outputs": []
    },
    {
      "cell_type": "code",
      "source": [
        "g_w1 = g_b = 0\n",
        "for x, y in data_pos:\n",
        "  g_w1 += (1 / sigmoid(w1 * x - y + b)) * (sigmoid(w1 * x - y + b) * (1-sigmoid(w1 * x - y + b))) * x\n",
        "  g_b = (1 / sigmoid(w1 * x - y + b)) * (sigmoid(w1 * x - y + b) * (1-sigmoid(w1 * x - y + b))) * 1\n",
        "g_w1 = g_w1 / len(data_pos)\n",
        "g_b = g_b / len(data_pos)\n",
        "\n",
        "print(g_w1, g_b)"
      ],
      "metadata": {
        "colab": {
          "base_uri": "https://localhost:8080/"
        },
        "id": "z8ZijZSG4Zal",
        "outputId": "16672dbf-5737-4137-92eb-11856a81ced3"
      },
      "execution_count": null,
      "outputs": [
        {
          "output_type": "stream",
          "name": "stdout",
          "text": [
            "0.23784991120410268 0.09916777219123385\n"
          ]
        }
      ]
    },
    {
      "cell_type": "code",
      "source": [
        "w1_old, b_old = w1, b\n",
        "w1 -= g_w1\n",
        "b -= g_b\n",
        "\n",
        "sum_pos = 0\n",
        "for x,y in data_pos:\n",
        "  sum_pos += math.log(sigmoid(w1 * x - y + b))\n",
        "\n",
        "# 1 - sigmoid(w1x -y + b) if (x,y) is negative\n",
        "#(-1) log P(-|[x,y]-)\n",
        "sum_neg = 0\n",
        "for x,y in data_neg:\n",
        "  sum_neg += math.log(1 - sigmoid(w1 * x - y + b))\n",
        "\n",
        "sum = -1 * (sum_pos + sum_neg)\n",
        "print(sum)"
      ],
      "metadata": {
        "colab": {
          "base_uri": "https://localhost:8080/"
        },
        "id": "GBuCAhvP5kLC",
        "outputId": "ca397e07-7ae8-48c5-dbe8-cf6dec611166"
      },
      "execution_count": null,
      "outputs": [
        {
          "output_type": "stream",
          "name": "stdout",
          "text": [
            "6.757193221579739\n"
          ]
        }
      ]
    },
    {
      "cell_type": "code",
      "source": [
        "\n",
        "plt.scatter(data_pos[:,0],data_pos[:,1], marker='+')\n",
        "plt.scatter(data_neg[:,0],data_neg[:,1], marker='*')\n",
        "\n",
        "linepoints_x = np.linspace(0, 1, 10)\n",
        "plt.plot(linepoints_x, [w1_old * x + b_old for x in  linepoints_x])\n",
        "plt.plot(linepoints_x, [w1 * x + b for x in  linepoints_x])"
      ],
      "metadata": {
        "colab": {
          "base_uri": "https://localhost:8080/",
          "height": 286
        },
        "id": "VNJcC1n4595O",
        "outputId": "04db0c72-ee0e-4a3f-9fbb-2b70b0839906"
      },
      "execution_count": null,
      "outputs": [
        {
          "output_type": "execute_result",
          "data": {
            "text/plain": [
              "[<matplotlib.lines.Line2D at 0x7f39ebc27d50>]"
            ]
          },
          "metadata": {},
          "execution_count": 8
        },
        {
          "output_type": "display_data",
          "data": {
            "text/plain": [
              "<Figure size 432x288 with 1 Axes>"
            ],
            "image/png": "[encoded data removed]"
          },
          "metadata": {
            "needs_background": "light"
          }
        }
      ]
    },
    {
      "cell_type": "code",
      "metadata": {
        "colab": {
          "base_uri": "https://localhost:8080/"
        },
        "id": "3GfCKYzYn7Ak",
        "outputId": "306ae382-21d4-45f5-811c-568ea3b24bb2"
      },
      "source": [
        "import numpy as np\n",
        "print(np.zeros([5,2]))\n",
        "print(np.ones([6,2]))\n",
        "[x, y] = (2, 1)\n",
        "[w1, w2] = (3, 1)\n",
        "f_x = w1 * x + w2\n",
        "\n",
        "\n",
        "ro_e_ro_w1 = x\n",
        "ro_e_ro_w2 = 1\n",
        "\n",
        "lr = 0.1\n",
        "e = float('inf') \n",
        "while(e > 0.001):\n",
        "  e = abs(w1 * x + w2 - y)\n",
        "  print(f'y = {w1 * x + w2}; error = {e}')\n",
        "  w1 = w1 - lr * (ro_e_ro_w1)\n",
        "  w2 = w2 - lr * (ro_e_ro_w2)\n",
        "\n",
        "print(w1)\n",
        "print(w2)\n",
        "  \n",
        "  \n",
        "f_x = 0.39 * x - 0.29"
      ],
      "execution_count": null,
      "outputs": [
        {
          "output_type": "stream",
          "text": [
            "[[0. 0.]\n",
            " [0. 0.]\n",
            " [0. 0.]\n",
            " [0. 0.]\n",
            " [0. 0.]]\n",
            "[[1. 1.]\n",
            " [1. 1.]\n",
            " [1. 1.]\n",
            " [1. 1.]\n",
            " [1. 1.]\n",
            " [1. 1.]]\n",
            "y = 7; error = 6\n",
            "y = 6.5; error = 5.5\n",
            "y = 5.999999999999999; error = 4.999999999999999\n",
            "y = 5.499999999999999; error = 4.499999999999999\n",
            "y = 4.999999999999998; error = 3.9999999999999982\n",
            "y = 4.499999999999999; error = 3.499999999999999\n",
            "y = 3.999999999999999; error = 2.999999999999999\n",
            "y = 3.499999999999999; error = 2.499999999999999\n",
            "y = 2.999999999999999; error = 1.9999999999999991\n",
            "y = 2.499999999999999; error = 1.4999999999999991\n",
            "y = 1.9999999999999993; error = 0.9999999999999993\n",
            "y = 1.4999999999999993; error = 0.49999999999999933\n",
            "y = 0.9999999999999994; error = 5.551115123125783e-16\n",
            "0.39999999999999963\n",
            "-0.2999999999999999\n"
          ],
          "name": "stdout"
        }
      ]
    },
    {
      "cell_type": "code",
      "source": [
        ""
      ],
      "metadata": {
        "id": "Po0rTmyYi7mx"
      },
      "execution_count": null,
      "outputs": []
    }
  ]
}