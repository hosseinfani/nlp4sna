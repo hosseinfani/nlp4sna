{
 "cells": [
  {
   "cell_type": "code",
   "execution_count": null,
   "metadata": {
    "colab": {
     "base_uri": "https://localhost:8080/"
    },
    "executionInfo": {
     "elapsed": 913,
     "status": "ok",
     "timestamp": 1610419839098,
     "user": {
      "displayName": "Hossein Fani",
      "photoUrl": "https://lh3.googleusercontent.com/a-/AOh14GgO38OGl8w_6Is-XgLyhmqfrqcB60FTZUGU5WRaEvw=s64",
      "userId": "11828116582968684516"
     },
     "user_tz": 300
    },
    "id": "SkuniFvpfb3H",
    "outputId": "d9d9552d-dc29-4f12-a65f-9ae8ad99b896"
   },
   "outputs": [
    {
     "name": "stdout",
     "output_type": "stream",
     "text": [
      "[nltk_data] Downloading package brown to /root/nltk_data...\n",
      "[nltk_data]   Package brown is already up-to-date!\n",
      "[nltk_data] Downloading package movie_reviews to /root/nltk_data...\n",
      "[nltk_data]   Package movie_reviews is already up-to-date!\n",
      "['adventure', 'belles_lettres', 'editorial', 'fiction', 'government', 'hobbies', 'humor', 'learned', 'lore', 'mystery', 'news', 'religion', 'reviews', 'romance', 'science_fiction']\n",
      "100554\n",
      "[['The', 'Fulton', 'County', 'Grand', 'Jury', 'said', 'Friday', 'an', 'investigation', 'of', \"Atlanta's\", 'recent', 'primary', 'election', 'produced', '``', 'no', 'evidence', \"''\", 'that', 'any', 'irregularities', 'took', 'place', '.'], ['The', 'jury', 'further', 'said', 'in', 'term-end', 'presentments', 'that', 'the', 'City', 'Executive', 'Committee', ',', 'which', 'had', 'over-all', 'charge', 'of', 'the', 'election', ',', '``', 'deserves', 'the', 'praise', 'and', 'thanks', 'of', 'the', 'City', 'of', 'Atlanta', \"''\", 'for', 'the', 'manner', 'in', 'which', 'the', 'election', 'was', 'conducted', '.'], ...]\n",
      "9371\n"
     ]
    }
   ],
   "source": [
    "from nltk.corpus import brown, movie_reviews\n",
    "nltk.download('brown')\n",
    "nltk.download('movie_reviews')\n",
    "\n",
    "print(brown.categories())\n",
    "print(len(brown.words(categories='news')))\n",
    "print(brown.sents(categories=['news', 'editorial', 'reviews']))\n",
    "print(len(brown.sents(categories=['news', 'editorial', 'reviews'])))\n"
   ]
  },
  {
   "cell_type": "code",
   "execution_count": null,
   "metadata": {
    "colab": {
     "base_uri": "https://localhost:8080/"
    },
    "executionInfo": {
     "elapsed": 785,
     "status": "ok",
     "timestamp": 1610431036424,
     "user": {
      "displayName": "Hossein Fani",
      "photoUrl": "https://lh3.googleusercontent.com/a-/AOh14GgO38OGl8w_6Is-XgLyhmqfrqcB60FTZUGU5WRaEvw=s64",
      "userId": "11828116582968684516"
     },
     "user_tz": 300
    },
    "id": "fEvkAwJVpr90",
    "outputId": "f77fcaca-5c5e-4331-b100-bbbd6316f6ab"
   },
   "outputs": [
    {
     "name": "stdout",
     "output_type": "stream",
     "text": [
      "[nltk_data] Downloading package punkt to /root/nltk_data...\n",
      "[nltk_data]   Package punkt is already up-to-date!\n",
      "['Punkt', 'knows', 'that', 'the', 'periods', 'in', 'Mr.', 'Smith', 'and', 'Johann', 'S.', 'Bach', 'do', 'not', 'mark', 'sentence', 'boundaries', '.', 'And', 'sometimes', 'sentences', 'can', 'start', 'with', 'non-capitalized', 'words', '.', 'i', 'is', 'a', 'good', 'variable', 'name', '.']\n",
      "['Punkt knows that the periods in Mr. Smith and Johann S. Bach do not mark sentence boundaries.', 'And sometimes sentences can start with non-capitalized words.', 'i is a good variable name.']\n",
      "\n",
      "['A', 'database', 'index', 'is', 'a', 'data', 'structure', 'that', 'improves', 'the', 'speed', 'of', 'data', 'retrieval', 'operations', 'on', 'a', 'database', 'table', 'at', 'the', 'cost', 'of', 'additional', 'writes', 'and', 'storage', 'space', 'to', 'maintain', 'the', 'index', 'data', 'structure', '.', 'Indexes', 'are', 'used', 'to', 'quickly', 'locate', 'data', 'without', 'having', 'to', 'search', 'every', 'row', 'in', 'a', 'database', 'table', 'every', 'time', 'a', 'database', 'table', 'is', 'accessed', '.', 'Indexes', 'can', 'be', 'created', 'using', 'one', 'or', 'more', 'columns', 'of', 'a', 'database', 'table', 'as', 'explained', 'in', 'Sect', '.', '2.1.4', ',', 'providing', 'the', 'basis', 'for', 'both', 'rapid', 'random', 'lookups', 'and', 'efficient', 'access', 'of', 'ordered', 'records', '.', 'An', 'index', 'is', 'a', 'copy', 'of', 'selected', 'columns', 'of', 'data', 'from', 'a', 'table', ',', 'called', 'a', 'database', 'key', 'or', 'simply', 'key', ',', 'that', 'can', 'be', 'searched', 'very', 'efficiently', 'that', 'also', 'includes', 'a', 'low-level', 'disk', 'block', 'address', 'or', 'direct', 'link', 'to', 'the', 'complete', 'row', 'of', 'data', 'it', 'was', 'copied', 'from', '.', 'Some', 'databases', 'extend', 'the', 'power', 'of', 'indexing', 'by', 'letting', 'developers', 'create', 'indexes', 'on', 'functions', 'or', 'expressions', '.', 'For', 'example', ',', 'an', 'index', 'could', 'be', 'created', 'on', 'upper', '(', 'last_name', ')', ',', 'which', 'would', 'only', 'store', 'the', 'upper-case', 'versions', 'of', 'the', 'last_name', 'field', 'in', 'the', 'index', '.', 'Another', 'option', 'sometimes', 'supported', 'is', 'the', 'use', 'of', 'partial', 'indices', ',', 'where', 'index', 'entries', 'are', 'created', 'only', 'for', 'those', 'records', 'that', 'satisfy', 'some', 'conditional', 'expression', '.', 'A', 'further', 'aspect', 'of', 'flexibility', 'is', 'to', 'permit', 'indexing', 'on', 'user-defined', 'functions', ',', 'as', 'well', 'as', 'expressions', 'formed', 'from', 'an', 'assortment', 'of', 'built-in', 'functions']\n",
      "241\n",
      "['A database index is a data structure that improves the speed of data retrieval operations on a database table at the cost of additional writes and storage space to maintain the index data structure.', 'Indexes are used to quickly locate data without having to search every row in a database table every time a database table is accessed.', 'Indexes can be created using one or more columns of a database table as explained in Sect.', '2.1.4, providing the basis for both rapid random lookups and efficient access of ordered records.', 'An index is a copy of selected columns of data from a table, called a database key or simply key, that can be searched very efficiently that also includes a low-level disk block address or direct link to the complete row of data it was copied from.', 'Some databases extend the power of indexing by letting developers create indexes on functions or expressions.', 'For example, an index could be created on upper(last_name), which would only store the upper-case versions of the last_name field in the index.', 'Another option sometimes supported is the use of partial indices, where index entries are created only for those records that satisfy some conditional expression.', 'A further aspect of flexibility is to permit indexing on user-defined functions, as well as expressions formed from an assortment of built-in functions']\n",
      "9\n",
      "\n",
      "['Adatabaseindexisadatastructurethatimprovesthespeedofdataretrievaloperationsonadatabasetableatthecostofadditionalwritesandstoragespacetomaintaintheindexdatastructure.Indexesareusedtoquicklylocatedatawithouthavingtosearcheveryrowinadatabasetableeverytimeadatabasetableisaccessed.IndexescanbecreatedusingoneormorecolumnsofadatabasetableasexplainedinSect.2.1.4', ',', 'providingthebasisforbothrapidrandomlookupsandefficientaccessoforderedrecords.Anindexisacopyofselectedcolumnsofdatafromatable', ',', 'calledadatabasekeyorsimplykey', ',', 'thatcanbesearchedveryefficientlythatalsoincludesalowleveldiskblockaddressordirectlinktothecompleterowofdataitwascopiedfrom.Somedatabasesextendthepowerofindexingbylettingdeveloperscreateindexesonfunctionsorexpressions.Forexample', ',', 'anindexcouldbecreatedonupper', '(', 'last_name', ')', ',', 'whichwouldonlystoretheuppercaseversionsofthelast_namefieldintheindex.Anotheroptionsometimessupportedistheuseofpartialindices', ',', 'whereindexentriesarecreatedonlyforthoserecordsthatsatisfysomeconditionalexpression.Afurtheraspectofflexibilityistopermitindexingonuserdefinedfunctions', ',', 'aswellasexpressionsformedfromanassortmentofbuilt-infunctions', '.']\n",
      "19\n",
      "['Adatabaseindexisadatastructurethatimprovesthespeedofdataretrievaloperationsonadatabasetableatthecostofadditionalwritesandstoragespacetomaintaintheindexdatastructure.Indexesareusedtoquicklylocatedatawithouthavingtosearcheveryrowinadatabasetableeverytimeadatabasetableisaccessed.IndexescanbecreatedusingoneormorecolumnsofadatabasetableasexplainedinSect.2.1.4,providingthebasisforbothrapidrandomlookupsandefficientaccessoforderedrecords.Anindexisacopyofselectedcolumnsofdatafromatable,calledadatabasekeyorsimplykey,thatcanbesearchedveryefficientlythatalsoincludesalowleveldiskblockaddressordirectlinktothecompleterowofdataitwascopiedfrom.Somedatabasesextendthepowerofindexingbylettingdeveloperscreateindexesonfunctionsorexpressions.Forexample,anindexcouldbecreatedonupper(last_name),whichwouldonlystoretheuppercaseversionsofthelast_namefieldintheindex.Anotheroptionsometimessupportedistheuseofpartialindices,whereindexentriesarecreatedonlyforthoserecordsthatsatisfysomeconditionalexpression.Afurtheraspectofflexibilityistopermitindexingonuserdefinedfunctions,aswellasexpressionsformedfromanassortmentofbuilt-infunctions.']\n",
      "1\n",
      "\n"
     ]
    },
    {
     "data": {
      "text/plain": [
       "3"
      ]
     },
     "execution_count": 24,
     "metadata": {
      "tags": []
     },
     "output_type": "execute_result"
    }
   ],
   "source": [
    "from nltk.tokenize import word_tokenize, sent_tokenize\n",
    "import nltk\n",
    "nltk.download('punkt')\n",
    "text = \"Punkt knows that the periods in Mr. Smith and Johann S. Bach do not mark sentence boundaries.  And sometimes sentences can start with non-capitalized words.  i is a good variable name.\"\n",
    "print(word_tokenize(text))\n",
    "print(sent_tokenize(text))\n",
    "print()\n",
    "\n",
    "text = \"A database index is a data structure that improves the speed of data retrieval operations on a database table at the cost of additional writes and storage space to maintain the index data structure. Indexes are used to quickly locate data without having to search every row in a database table every time a database table is accessed. Indexes can be created using one or more columns of a database table as explained in Sect. 2.1.4, providing the basis for both rapid random lookups and efficient access of ordered records. An index is a copy of selected columns of data from a table, called a database key or simply key, that can be searched very efficiently that also includes a low-level disk block address or direct link to the complete row of data it was copied from. Some databases extend the power of indexing by letting developers create indexes on functions or expressions. For example, an index could be created on upper(last_name), which would only store the upper-case versions of the last_name field in the index. Another option sometimes supported is the use of partial indices, where index entries are created only for those records that satisfy some conditional expression. A further aspect of flexibility is to permit indexing on user-defined functions, as well as expressions formed from an assortment of built-in functions\"\n",
    "\n",
    "print(word_tokenize(text))\n",
    "print(len(word_tokenize(text)))\n",
    "print(sent_tokenize(text))\n",
    "print(len(sent_tokenize(text)))\n",
    "print()\n",
    "\n",
    "text_nospace = \"Adatabaseindexisadatastructurethatimprovesthespeedofdataretrievaloperationsonadatabasetableatthecostofadditionalwritesandstoragespacetomaintaintheindexdatastructure.Indexesareusedtoquicklylocatedatawithouthavingtosearcheveryrowinadatabasetableeverytimeadatabasetableisaccessed.IndexescanbecreatedusingoneormorecolumnsofadatabasetableasexplainedinSect.2.1.4,providingthebasisforbothrapidrandomlookupsandefficientaccessoforderedrecords.Anindexisacopyofselectedcolumnsofdatafromatable,calledadatabasekeyorsimplykey,thatcanbesearchedveryefficientlythatalsoincludesalowleveldiskblockaddressordirectlinktothecompleterowofdataitwascopiedfrom.Somedatabasesextendthepowerofindexingbylettingdeveloperscreateindexesonfunctionsorexpressions.Forexample,anindexcouldbecreatedonupper(last_name),whichwouldonlystoretheuppercaseversionsofthelast_namefieldintheindex.Anotheroptionsometimessupportedistheuseofpartialindices,whereindexentriesarecreatedonlyforthoserecordsthatsatisfysomeconditionalexpression.Afurtheraspectofflexibilityistopermitindexingonuserdefinedfunctions,aswellasexpressionsformedfromanassortmentofbuilt-infunctions.\"\n",
    "print(word_tokenize(text_nospace))\n",
    "print(len(word_tokenize(text_nospace)))\n",
    "print(sent_tokenize(text_nospace))\n",
    "print(len(sent_tokenize(text_nospace)))\n",
    "print()\n",
    "\n",
    "from nltk.tokenize.casual import TweetTokenizer\n",
    "tweet_tokenizer = TweetTokenizer()\n",
    "tweet = \"This is a cooool #dummysmiley: :-) :-P <3 and some arrows < > -> <--\"\n",
    "tweet_tokenizer.tokenize(tweet)\n",
    "\n",
    "import re\n",
    "pattern = '[a-zA-Z]+'\n",
    "nltk.regexp_tokenize(tweet, pattern)\n",
    "#re.match(pattern, tweet)\n",
    "\n",
    "nltk.edit_distance('Helooo', 'Hallo', transpositions=False)"
   ]
  },
  {
   "cell_type": "code",
   "execution_count": 1,
   "metadata": {
    "colab": {
     "base_uri": "https://localhost:8080/",
     "height": 0
    },
    "executionInfo": {
     "elapsed": 3102,
     "status": "error",
     "timestamp": 1610460783201,
     "user": {
      "displayName": "Hossein Fani",
      "photoUrl": "https://lh3.googleusercontent.com/a-/AOh14GgO38OGl8w_6Is-XgLyhmqfrqcB60FTZUGU5WRaEvw=s64",
      "userId": "11828116582968684516"
     },
     "user_tz": 300
    },
    "id": "8mg--PfiITfb",
    "outputId": "c8c3141c-05c7-4e0d-e1f7-326d11af7c0b"
   },
   "outputs": [
    {
     "name": "stderr",
     "output_type": "stream",
     "text": [
      "[nltk_data] Downloading package punkt to\n",
      "[nltk_data]     C:\\Users\\hfani\\AppData\\Roaming\\nltk_data...\n",
      "[nltk_data]   Package punkt is already up-to-date!\n",
      "[nltk_data] Downloading package averaged_perceptron_tagger to\n",
      "[nltk_data]     C:\\Users\\hfani\\AppData\\Roaming\\nltk_data...\n",
      "[nltk_data]   Package averaged_perceptron_tagger is already up-to-\n",
      "[nltk_data]       date!\n",
      "[nltk_data] Downloading package tagsets to\n",
      "[nltk_data]     C:\\Users\\hfani\\AppData\\Roaming\\nltk_data...\n",
      "[nltk_data]   Package tagsets is already up-to-date!\n",
      "[nltk_data] Downloading package universal_tagset to\n",
      "[nltk_data]     C:\\Users\\hfani\\AppData\\Roaming\\nltk_data...\n",
      "[nltk_data]   Package universal_tagset is already up-to-date!\n"
     ]
    },
    {
     "ename": "JSONDecodeError",
     "evalue": "Expecting value: line 1 column 1 (char 0)",
     "output_type": "error",
     "traceback": [
      "\u001b[1;31m---------------------------------------------------------------------------\u001b[0m",
      "\u001b[1;31mJSONDecodeError\u001b[0m                           Traceback (most recent call last)",
      "\u001b[1;32m<ipython-input-1-2e225c3884d9>\u001b[0m in \u001b[0;36m<module>\u001b[1;34m\u001b[0m\n\u001b[0;32m     31\u001b[0m \u001b[1;32mfrom\u001b[0m  \u001b[0mnltk\u001b[0m\u001b[1;33m.\u001b[0m\u001b[0mparse\u001b[0m\u001b[1;33m.\u001b[0m\u001b[0mcorenlp\u001b[0m  \u001b[1;32mimport\u001b[0m \u001b[0mCoreNLPParser\u001b[0m\u001b[1;33m\u001b[0m\u001b[1;33m\u001b[0m\u001b[0m\n\u001b[0;32m     32\u001b[0m \u001b[0mparser\u001b[0m \u001b[1;33m=\u001b[0m \u001b[0mCoreNLPParser\u001b[0m\u001b[1;33m(\u001b[0m\u001b[0murl\u001b[0m\u001b[1;33m=\u001b[0m\u001b[1;34m'http://nlp.stanford.edu:8080/'\u001b[0m\u001b[1;33m)\u001b[0m\u001b[1;33m\u001b[0m\u001b[1;33m\u001b[0m\u001b[0m\n\u001b[1;32m---> 33\u001b[1;33m \u001b[0mparse\u001b[0m \u001b[1;33m=\u001b[0m \u001b[0mnext\u001b[0m\u001b[1;33m(\u001b[0m\u001b[0mparser\u001b[0m\u001b[1;33m.\u001b[0m\u001b[0mraw_parse\u001b[0m\u001b[1;33m(\u001b[0m\u001b[1;34m\"I put the book in the box on the table.\"\u001b[0m\u001b[1;33m)\u001b[0m\u001b[1;33m)\u001b[0m\u001b[1;33m\u001b[0m\u001b[1;33m\u001b[0m\u001b[0m\n\u001b[0m",
      "\u001b[1;32mC:\\ProgramData\\Anaconda3\\lib\\site-packages\\nltk\\parse\\corenlp.py\u001b[0m in \u001b[0;36mraw_parse\u001b[1;34m(self, sentence, properties, *args, **kwargs)\u001b[0m\n\u001b[0;32m    225\u001b[0m         \u001b[0mdefault_properties\u001b[0m\u001b[1;33m.\u001b[0m\u001b[0mupdate\u001b[0m\u001b[1;33m(\u001b[0m\u001b[0mproperties\u001b[0m \u001b[1;32mor\u001b[0m \u001b[1;33m{\u001b[0m\u001b[1;33m}\u001b[0m\u001b[1;33m)\u001b[0m\u001b[1;33m\u001b[0m\u001b[1;33m\u001b[0m\u001b[0m\n\u001b[0;32m    226\u001b[0m \u001b[1;33m\u001b[0m\u001b[0m\n\u001b[1;32m--> 227\u001b[1;33m         return next(\n\u001b[0m\u001b[0;32m    228\u001b[0m             self.raw_parse_sents(\n\u001b[0;32m    229\u001b[0m                 \u001b[1;33m[\u001b[0m\u001b[0msentence\u001b[0m\u001b[1;33m]\u001b[0m\u001b[1;33m,\u001b[0m \u001b[0mproperties\u001b[0m\u001b[1;33m=\u001b[0m\u001b[0mdefault_properties\u001b[0m\u001b[1;33m,\u001b[0m \u001b[1;33m*\u001b[0m\u001b[0margs\u001b[0m\u001b[1;33m,\u001b[0m \u001b[1;33m**\u001b[0m\u001b[0mkwargs\u001b[0m\u001b[1;33m\u001b[0m\u001b[1;33m\u001b[0m\u001b[0m\n",
      "\u001b[1;32mC:\\ProgramData\\Anaconda3\\lib\\site-packages\\nltk\\parse\\corenlp.py\u001b[0m in \u001b[0;36mraw_parse_sents\u001b[1;34m(self, sentences, verbose, properties, *args, **kwargs)\u001b[0m\n\u001b[0;32m    282\u001b[0m                 \u001b[1;32myield\u001b[0m \u001b[0miter\u001b[0m\u001b[1;33m(\u001b[0m\u001b[1;33m[\u001b[0m\u001b[0mtree\u001b[0m\u001b[1;33m]\u001b[0m\u001b[1;33m)\u001b[0m\u001b[1;33m\u001b[0m\u001b[1;33m\u001b[0m\u001b[0m\n\u001b[0;32m    283\u001b[0m         \"\"\"\n\u001b[1;32m--> 284\u001b[1;33m         \u001b[0mparsed_data\u001b[0m \u001b[1;33m=\u001b[0m \u001b[0mself\u001b[0m\u001b[1;33m.\u001b[0m\u001b[0mapi_call\u001b[0m\u001b[1;33m(\u001b[0m\u001b[1;34m\"\\n\"\u001b[0m\u001b[1;33m.\u001b[0m\u001b[0mjoin\u001b[0m\u001b[1;33m(\u001b[0m\u001b[0msentences\u001b[0m\u001b[1;33m)\u001b[0m\u001b[1;33m,\u001b[0m \u001b[0mproperties\u001b[0m\u001b[1;33m=\u001b[0m\u001b[0mdefault_properties\u001b[0m\u001b[1;33m)\u001b[0m\u001b[1;33m\u001b[0m\u001b[1;33m\u001b[0m\u001b[0m\n\u001b[0m\u001b[0;32m    285\u001b[0m         \u001b[1;32mfor\u001b[0m \u001b[0mparsed_sent\u001b[0m \u001b[1;32min\u001b[0m \u001b[0mparsed_data\u001b[0m\u001b[1;33m[\u001b[0m\u001b[1;34m\"sentences\"\u001b[0m\u001b[1;33m]\u001b[0m\u001b[1;33m:\u001b[0m\u001b[1;33m\u001b[0m\u001b[1;33m\u001b[0m\u001b[0m\n\u001b[0;32m    286\u001b[0m             \u001b[0mtree\u001b[0m \u001b[1;33m=\u001b[0m \u001b[0mself\u001b[0m\u001b[1;33m.\u001b[0m\u001b[0mmake_tree\u001b[0m\u001b[1;33m(\u001b[0m\u001b[0mparsed_sent\u001b[0m\u001b[1;33m)\u001b[0m\u001b[1;33m\u001b[0m\u001b[1;33m\u001b[0m\u001b[0m\n",
      "\u001b[1;32mC:\\ProgramData\\Anaconda3\\lib\\site-packages\\nltk\\parse\\corenlp.py\u001b[0m in \u001b[0;36mapi_call\u001b[1;34m(self, data, properties, timeout)\u001b[0m\n\u001b[0;32m    250\u001b[0m         \u001b[0mresponse\u001b[0m\u001b[1;33m.\u001b[0m\u001b[0mraise_for_status\u001b[0m\u001b[1;33m(\u001b[0m\u001b[1;33m)\u001b[0m\u001b[1;33m\u001b[0m\u001b[1;33m\u001b[0m\u001b[0m\n\u001b[0;32m    251\u001b[0m \u001b[1;33m\u001b[0m\u001b[0m\n\u001b[1;32m--> 252\u001b[1;33m         \u001b[1;32mreturn\u001b[0m \u001b[0mresponse\u001b[0m\u001b[1;33m.\u001b[0m\u001b[0mjson\u001b[0m\u001b[1;33m(\u001b[0m\u001b[1;33m)\u001b[0m\u001b[1;33m\u001b[0m\u001b[1;33m\u001b[0m\u001b[0m\n\u001b[0m\u001b[0;32m    253\u001b[0m \u001b[1;33m\u001b[0m\u001b[0m\n\u001b[0;32m    254\u001b[0m     def raw_parse_sents(\n",
      "\u001b[1;32mC:\\ProgramData\\Anaconda3\\lib\\site-packages\\requests\\models.py\u001b[0m in \u001b[0;36mjson\u001b[1;34m(self, **kwargs)\u001b[0m\n\u001b[0;32m    896\u001b[0m                     \u001b[1;31m# used.\u001b[0m\u001b[1;33m\u001b[0m\u001b[1;33m\u001b[0m\u001b[1;33m\u001b[0m\u001b[0m\n\u001b[0;32m    897\u001b[0m                     \u001b[1;32mpass\u001b[0m\u001b[1;33m\u001b[0m\u001b[1;33m\u001b[0m\u001b[0m\n\u001b[1;32m--> 898\u001b[1;33m         \u001b[1;32mreturn\u001b[0m \u001b[0mcomplexjson\u001b[0m\u001b[1;33m.\u001b[0m\u001b[0mloads\u001b[0m\u001b[1;33m(\u001b[0m\u001b[0mself\u001b[0m\u001b[1;33m.\u001b[0m\u001b[0mtext\u001b[0m\u001b[1;33m,\u001b[0m \u001b[1;33m**\u001b[0m\u001b[0mkwargs\u001b[0m\u001b[1;33m)\u001b[0m\u001b[1;33m\u001b[0m\u001b[1;33m\u001b[0m\u001b[0m\n\u001b[0m\u001b[0;32m    899\u001b[0m \u001b[1;33m\u001b[0m\u001b[0m\n\u001b[0;32m    900\u001b[0m     \u001b[1;33m@\u001b[0m\u001b[0mproperty\u001b[0m\u001b[1;33m\u001b[0m\u001b[1;33m\u001b[0m\u001b[0m\n",
      "\u001b[1;32mC:\\ProgramData\\Anaconda3\\lib\\json\\__init__.py\u001b[0m in \u001b[0;36mloads\u001b[1;34m(s, cls, object_hook, parse_float, parse_int, parse_constant, object_pairs_hook, **kw)\u001b[0m\n\u001b[0;32m    355\u001b[0m             \u001b[0mparse_int\u001b[0m \u001b[1;32mis\u001b[0m \u001b[1;32mNone\u001b[0m \u001b[1;32mand\u001b[0m \u001b[0mparse_float\u001b[0m \u001b[1;32mis\u001b[0m \u001b[1;32mNone\u001b[0m \u001b[1;32mand\u001b[0m\u001b[1;33m\u001b[0m\u001b[1;33m\u001b[0m\u001b[0m\n\u001b[0;32m    356\u001b[0m             parse_constant is None and object_pairs_hook is None and not kw):\n\u001b[1;32m--> 357\u001b[1;33m         \u001b[1;32mreturn\u001b[0m \u001b[0m_default_decoder\u001b[0m\u001b[1;33m.\u001b[0m\u001b[0mdecode\u001b[0m\u001b[1;33m(\u001b[0m\u001b[0ms\u001b[0m\u001b[1;33m)\u001b[0m\u001b[1;33m\u001b[0m\u001b[1;33m\u001b[0m\u001b[0m\n\u001b[0m\u001b[0;32m    358\u001b[0m     \u001b[1;32mif\u001b[0m \u001b[0mcls\u001b[0m \u001b[1;32mis\u001b[0m \u001b[1;32mNone\u001b[0m\u001b[1;33m:\u001b[0m\u001b[1;33m\u001b[0m\u001b[1;33m\u001b[0m\u001b[0m\n\u001b[0;32m    359\u001b[0m         \u001b[0mcls\u001b[0m \u001b[1;33m=\u001b[0m \u001b[0mJSONDecoder\u001b[0m\u001b[1;33m\u001b[0m\u001b[1;33m\u001b[0m\u001b[0m\n",
      "\u001b[1;32mC:\\ProgramData\\Anaconda3\\lib\\json\\decoder.py\u001b[0m in \u001b[0;36mdecode\u001b[1;34m(self, s, _w)\u001b[0m\n\u001b[0;32m    335\u001b[0m \u001b[1;33m\u001b[0m\u001b[0m\n\u001b[0;32m    336\u001b[0m         \"\"\"\n\u001b[1;32m--> 337\u001b[1;33m         \u001b[0mobj\u001b[0m\u001b[1;33m,\u001b[0m \u001b[0mend\u001b[0m \u001b[1;33m=\u001b[0m \u001b[0mself\u001b[0m\u001b[1;33m.\u001b[0m\u001b[0mraw_decode\u001b[0m\u001b[1;33m(\u001b[0m\u001b[0ms\u001b[0m\u001b[1;33m,\u001b[0m \u001b[0midx\u001b[0m\u001b[1;33m=\u001b[0m\u001b[0m_w\u001b[0m\u001b[1;33m(\u001b[0m\u001b[0ms\u001b[0m\u001b[1;33m,\u001b[0m \u001b[1;36m0\u001b[0m\u001b[1;33m)\u001b[0m\u001b[1;33m.\u001b[0m\u001b[0mend\u001b[0m\u001b[1;33m(\u001b[0m\u001b[1;33m)\u001b[0m\u001b[1;33m)\u001b[0m\u001b[1;33m\u001b[0m\u001b[1;33m\u001b[0m\u001b[0m\n\u001b[0m\u001b[0;32m    338\u001b[0m         \u001b[0mend\u001b[0m \u001b[1;33m=\u001b[0m \u001b[0m_w\u001b[0m\u001b[1;33m(\u001b[0m\u001b[0ms\u001b[0m\u001b[1;33m,\u001b[0m \u001b[0mend\u001b[0m\u001b[1;33m)\u001b[0m\u001b[1;33m.\u001b[0m\u001b[0mend\u001b[0m\u001b[1;33m(\u001b[0m\u001b[1;33m)\u001b[0m\u001b[1;33m\u001b[0m\u001b[1;33m\u001b[0m\u001b[0m\n\u001b[0;32m    339\u001b[0m         \u001b[1;32mif\u001b[0m \u001b[0mend\u001b[0m \u001b[1;33m!=\u001b[0m \u001b[0mlen\u001b[0m\u001b[1;33m(\u001b[0m\u001b[0ms\u001b[0m\u001b[1;33m)\u001b[0m\u001b[1;33m:\u001b[0m\u001b[1;33m\u001b[0m\u001b[1;33m\u001b[0m\u001b[0m\n",
      "\u001b[1;32mC:\\ProgramData\\Anaconda3\\lib\\json\\decoder.py\u001b[0m in \u001b[0;36mraw_decode\u001b[1;34m(self, s, idx)\u001b[0m\n\u001b[0;32m    353\u001b[0m             \u001b[0mobj\u001b[0m\u001b[1;33m,\u001b[0m \u001b[0mend\u001b[0m \u001b[1;33m=\u001b[0m \u001b[0mself\u001b[0m\u001b[1;33m.\u001b[0m\u001b[0mscan_once\u001b[0m\u001b[1;33m(\u001b[0m\u001b[0ms\u001b[0m\u001b[1;33m,\u001b[0m \u001b[0midx\u001b[0m\u001b[1;33m)\u001b[0m\u001b[1;33m\u001b[0m\u001b[1;33m\u001b[0m\u001b[0m\n\u001b[0;32m    354\u001b[0m         \u001b[1;32mexcept\u001b[0m \u001b[0mStopIteration\u001b[0m \u001b[1;32mas\u001b[0m \u001b[0merr\u001b[0m\u001b[1;33m:\u001b[0m\u001b[1;33m\u001b[0m\u001b[1;33m\u001b[0m\u001b[0m\n\u001b[1;32m--> 355\u001b[1;33m             \u001b[1;32mraise\u001b[0m \u001b[0mJSONDecodeError\u001b[0m\u001b[1;33m(\u001b[0m\u001b[1;34m\"Expecting value\"\u001b[0m\u001b[1;33m,\u001b[0m \u001b[0ms\u001b[0m\u001b[1;33m,\u001b[0m \u001b[0merr\u001b[0m\u001b[1;33m.\u001b[0m\u001b[0mvalue\u001b[0m\u001b[1;33m)\u001b[0m \u001b[1;32mfrom\u001b[0m \u001b[1;32mNone\u001b[0m\u001b[1;33m\u001b[0m\u001b[1;33m\u001b[0m\u001b[0m\n\u001b[0m\u001b[0;32m    356\u001b[0m         \u001b[1;32mreturn\u001b[0m \u001b[0mobj\u001b[0m\u001b[1;33m,\u001b[0m \u001b[0mend\u001b[0m\u001b[1;33m\u001b[0m\u001b[1;33m\u001b[0m\u001b[0m\n",
      "\u001b[1;31mJSONDecodeError\u001b[0m: Expecting value: line 1 column 1 (char 0)"
     ]
    }
   ],
   "source": [
    "import os\n",
    "import nltk\n",
    "from nltk.tokenize import word_tokenize\n",
    "nltk.download('punkt')\n",
    "\n",
    "nltk.download('averaged_perceptron_tagger')\n",
    "nltk.download('tagsets')\n",
    "nltk.download('universal_tagset')\n",
    "#nltk.help.upenn_tagset()\n",
    "\n",
    "text = \"I made her duck.\"\n",
    "text_tokens = word_tokenize(text)\n",
    "text_pos = nltk.pos_tag(text_tokens, tagset='universal')\n",
    "\n",
    "#from nltk.parse.corenlp import CoreNLPServer\n",
    "# The server needs to know the location of the following files:\n",
    "#   - stanford-corenlp-X.X.X.jar\n",
    "#   - stanford-corenlp-X.X.X-models.jar\n",
    "# STANFORD = os.path.join(\"/content/drive/MyDrive/Academic/UWindsor/Course/COMP8730_NLP/W2021_Hossein_Fani/Lectures/Lec02_Text_Normalization/Colab/stanford-corenlp-4.2.0\")\n",
    "#\n",
    "# # Create the server\n",
    "# server = CoreNLPServer(\n",
    "#    os.path.join(STANFORD, \"stanford-corenlp-4.2.0.jar\"),\n",
    "#    os.path.join(STANFORD, \"stanford-corenlp-4.2.0-models.jar\"),\n",
    "# )\n",
    "# print(STANFORD)\n",
    "# print(os.path.join(STANFORD, \"stanford-corenlp-4.2.0.jar\"))\n",
    "# # Start the server in the background\n",
    "# server.start()\n",
    "\n",
    "from  nltk.parse.corenlp  import CoreNLPParser\n",
    "parser = CoreNLPParser(url='http://nlp.stanford.edu:8080/')\n",
    "parse = next(parser.raw_parse(\"I put the book in the box on the table.\"))"
   ]
  },
  {
   "cell_type": "code",
   "execution_count": null,
   "metadata": {
    "id": "YTY5CKJfOJ9J"
   },
   "outputs": [],
   "source": []
  }
 ],
 "metadata": {
  "colab": {
   "authorship_tag": "ABX9TyMVnGTdEuXbh6W+yj64OW7y",
   "collapsed_sections": [],
   "mount_file_id": "1r5SwmKU8wGlPVbCdvYimHBhMiAedL3ke",
   "name": "Lec02.ipynb",
   "provenance": [
    {
     "file_id": "1GPHPbD1EJcoDm8cMFc6R5ZqCgTiZFhMw",
     "timestamp": 1610396134965
    }
   ]
  },
  "kernelspec": {
   "display_name": "Python 3",
   "language": "python",
   "name": "python3"
  },
  "language_info": {
   "codemirror_mode": {
    "name": "ipython",
    "version": 3
   },
   "file_extension": ".py",
   "mimetype": "text/x-python",
   "name": "python",
   "nbconvert_exporter": "python",
   "pygments_lexer": "ipython3",
   "version": "3.8.3"
  }
 },
 "nbformat": 4,
 "nbformat_minor": 1
}
