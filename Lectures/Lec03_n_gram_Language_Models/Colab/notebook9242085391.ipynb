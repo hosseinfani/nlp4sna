{
 "metadata": {
  "kernelspec": {
   "display_name": "Python 3",
   "language": "python",
   "name": "python3"
  },
  "language_info": {
   "name": "python",
   "version": "3.6.6",
   "mimetype": "text/x-python",
   "codemirror_mode": {
    "name": "ipython",
    "version": 3
   },
   "pygments_lexer": "ipython3",
   "nbconvert_exporter": "python",
   "file_extension": ".py"
  }
 },
 "nbformat_minor": 4,
 "nbformat": 4,
 "cells": [
  {
   "cell_type": "code",
   "source": [
    "!pip install -U pip\n",
    "!pip install -U dill\n",
    "!pip install -U nltk==3.4"
   ],
   "metadata": {
    "_uuid": "10bbe6360f9659217f9f40455301aa72d6b614a6",
    "trusted": true,
    "pycharm": {
     "name": "#%%https://www.kaggle.com/alvations/n-gram-language-model-with-nltk\n"
    }
   },
   "execution_count": null,
   "outputs": []
  },
  {
   "cell_type": "markdown",
   "source": "# N-grams Language Models (N-grams LM)\n\nNowadays, everything seems to be going neural... \n\nTraditionally, we can use n-grams to generate language models to predict which word comes next given a history of words. \n\nWe'll use the `lm` module in `nltk` to get a sense of how non-neural language modelling is done.\n\n(**Source:** The content in this notebook is largely based on [language model tutorial in NLTK documentation by Ilia Kurenkov](https://github.com/nltk/nltk/blob/develop/nltk/lm/__init__.py))",
   "metadata": {
    "_uuid": "65559326e76d2b7841244e1dd6ea448671411b95"
   }
  },
  {
   "cell_type": "code",
   "source": "from nltk.util import pad_sequence\nfrom nltk.util import bigrams\nfrom nltk.util import ngrams\nfrom nltk.util import everygrams\nfrom nltk.lm.preprocessing import pad_both_ends\nfrom nltk.lm.preprocessing import flatten",
   "metadata": {
    "_uuid": "1b213fb0dd5534ce82d6f1c716e9695ba5cf9758",
    "trusted": true
   },
   "execution_count": null,
   "outputs": []
  },
  {
   "cell_type": "markdown",
   "source": "If we want to train a bigram model, we need to turn this text into bigrams. Here's what the first sentence of our text would look like if we use the `ngrams` function from NLTK for this.",
   "metadata": {
    "_uuid": "800f7632b6a834d36b95211a912b390fcb9dc11b"
   }
  },
  {
   "cell_type": "code",
   "source": "text = [['a', 'b', 'c'], ['a', 'c', 'd', 'c', 'e', 'f']]",
   "metadata": {
    "_uuid": "1c1716261478af5e75bba7799bfefc10bd1ea4ea",
    "trusted": true
   },
   "execution_count": null,
   "outputs": []
  },
  {
   "cell_type": "code",
   "source": "list(bigrams(text[0]))",
   "metadata": {
    "_uuid": "a5a1c775bab7cf9c67656d4349d8bfca02a80738",
    "trusted": true
   },
   "execution_count": null,
   "outputs": []
  },
  {
   "cell_type": "code",
   "source": "list(ngrams(text[1], n=3))",
   "metadata": {
    "_uuid": "0219988318e39dd0576913b8087af8b35cbdab2f",
    "trusted": true
   },
   "execution_count": null,
   "outputs": []
  },
  {
   "cell_type": "markdown",
   "source": "Notice how \"b\" occurs both as the first and second member of different bigrams but \"a\" and \"c\" don't? \n\nWouldn't it be nice to somehow indicate how often sentences start with \"a\" and end with \"c\"?\n\n\nA standard way to deal with this is to add special \"padding\" symbols to the sentence before splitting it into ngrams. Fortunately, NLTK also has a function for that, let's see what it does to the first sentence.\n",
   "metadata": {
    "_uuid": "e3a92b25dc25f3ae86fd265880b7f410e981c670"
   }
  },
  {
   "cell_type": "code",
   "source": "from nltk.util import pad_sequence\nlist(pad_sequence(text[0],\n                  pad_left=True, left_pad_symbol=\"<s>\",\n                  pad_right=True, right_pad_symbol=\"</s>\",\n                  n=2)) # The n order of n-grams, if it's 2-grams, you pad once, 3-grams pad twice, etc. ",
   "metadata": {
    "_uuid": "1ec58c94f58429c9160b4496c939f211f88ade54",
    "trusted": true
   },
   "execution_count": null,
   "outputs": []
  },
  {
   "cell_type": "code",
   "source": "padded_sent = list(pad_sequence(text[0], pad_left=True, left_pad_symbol=\"<s>\", \n                                pad_right=True, right_pad_symbol=\"</s>\", n=2))\nlist(ngrams(padded_sent, n=2))",
   "metadata": {
    "_uuid": "ae38644238aa46ac100381c0de046972090b093b",
    "trusted": true
   },
   "execution_count": null,
   "outputs": []
  },
  {
   "cell_type": "code",
   "source": "list(pad_sequence(text[0],\n                  pad_left=True, left_pad_symbol=\"<s>\",\n                  pad_right=True, right_pad_symbol=\"</s>\",\n                  n=3)) # The n order of n-grams, if it's 2-grams, you pad once, 3-grams pad twice, etc. ",
   "metadata": {
    "_uuid": "4cda3fcbd1b8ab48431240e04168011953ebc913",
    "trusted": true
   },
   "execution_count": null,
   "outputs": []
  },
  {
   "cell_type": "code",
   "source": "padded_sent = list(pad_sequence(text[0], pad_left=True, left_pad_symbol=\"<s>\", \n                                pad_right=True, right_pad_symbol=\"</s>\", n=3))\nlist(ngrams(padded_sent, n=3))",
   "metadata": {
    "_uuid": "bd572a57371a716471d156144e7ebc136072de01",
    "trusted": true
   },
   "execution_count": null,
   "outputs": []
  },
  {
   "cell_type": "markdown",
   "source": "Note the `n` argument, that tells the function we need padding for bigrams.\n\nNow, passing all these parameters every time is tedious and in most cases they can be safely assumed as defaults anyway.\n\nThus the `nltk.lm` module provides a convenience function that has all these arguments already set while the other arguments remain the same as for `pad_sequence`.",
   "metadata": {
    "_uuid": "e4d80e5707a2efa7ea5cee601d07bca23bc0ae87"
   }
  },
  {
   "cell_type": "code",
   "source": "from nltk.lm.preprocessing import pad_both_ends\nlist(pad_both_ends(text[0], n=2))\n",
   "metadata": {
    "_uuid": "eb64c3c2a205c5fc5e1fce6f63c3e9038f0d8c4a",
    "trusted": true
   },
   "execution_count": null,
   "outputs": []
  },
  {
   "cell_type": "markdown",
   "source": "Combining the two parts discussed so far we get the following preparation steps for one sentence.",
   "metadata": {
    "_uuid": "2d2581fae73d38d623a77b5d523c957df2dc8478"
   }
  },
  {
   "cell_type": "code",
   "source": "list(bigrams(pad_both_ends(text[0], n=2)))",
   "metadata": {
    "_uuid": "1168917cc340d400f6dba9b2703561785481d8e4",
    "trusted": true
   },
   "execution_count": null,
   "outputs": []
  },
  {
   "cell_type": "markdown",
   "source": "To make our model more robust we could also train it on unigrams (single words) as well as bigrams, its main source of information.\nNLTK once again helpfully provides a function called `everygrams`.\n\nWhile not the most efficient, it is conceptually simple.",
   "metadata": {
    "_uuid": "2778a5e5b8d95bc395ba41af491818140c7f680e"
   }
  },
  {
   "cell_type": "code",
   "source": "from nltk.util import everygrams\npadded_bigrams = list(pad_both_ends(text[0], n=2))\nlist(everygrams(padded_bigrams, max_len=2))",
   "metadata": {
    "_uuid": "dfdc9effca718a7881f1fdc4562cdfb29164b96c",
    "trusted": true
   },
   "execution_count": null,
   "outputs": []
  },
  {
   "cell_type": "markdown",
   "source": "We are almost ready to start counting ngrams, just one more step left.\n\nDuring training and evaluation our model will rely on a vocabulary that defines which words are \"known\" to the model.\n\nTo create this vocabulary we need to pad our sentences (just like for counting ngrams) and then combine the sentences into one flat stream of words.\n",
   "metadata": {
    "_uuid": "d74b0ba683b733d5a83756361a905625a841e68d"
   }
  },
  {
   "cell_type": "code",
   "source": "from nltk.lm.preprocessing import flatten\nlist(flatten(pad_both_ends(sent, n=2) for sent in text))",
   "metadata": {
    "_uuid": "310c937ea7cc847a26f6c3d08c7169e8cd6b354a",
    "trusted": true
   },
   "execution_count": null,
   "outputs": []
  },
  {
   "cell_type": "markdown",
   "source": "In most cases we want to use the same text as the source for both vocabulary and ngram counts.\n\nNow that we understand what this means for our preprocessing, we can simply import a function that does everything for us.",
   "metadata": {
    "_uuid": "5bab7d656c474d945669e6a86bf4beec3a44189e"
   }
  },
  {
   "cell_type": "code",
   "source": "from nltk.lm.preprocessing import padded_everygram_pipeline\ntrain, vocab = padded_everygram_pipeline(2, text)",
   "metadata": {
    "_uuid": "147ccdd961ac97492ee9f0eadf3dfce7325c6790",
    "trusted": true
   },
   "execution_count": null,
   "outputs": []
  },
  {
   "cell_type": "markdown",
   "source": "So as to avoid re-creating the text in memory, both `train` and `vocab` are lazy iterators. They are evaluated on demand at training time.\n\nFor the sake of understanding the output of `padded_everygram_pipeline`, we'll \"materialize\" the lazy iterators by casting them into a list.",
   "metadata": {
    "_uuid": "b1b15504f2fb4487deec19de1c5ca786e49a42d6"
   }
  },
  {
   "cell_type": "code",
   "source": "training_ngrams, padded_sentences = padded_everygram_pipeline(2, text)\nfor ngramlize_sent in training_ngrams:\n    print(list(ngramlize_sent))\n    print()\nprint('#############')\nlist(padded_sentences)",
   "metadata": {
    "_uuid": "aa18a8a4a700926c30488c94cf519d8900de8ddf",
    "trusted": true
   },
   "execution_count": null,
   "outputs": []
  },
  {
   "cell_type": "markdown",
   "source": "## Lets get some real data and tokenize it",
   "metadata": {
    "_uuid": "4638a871a58694a77473a590728ebf25047cd6eb"
   }
  },
  {
   "cell_type": "code",
   "source": "try: # Use the default NLTK tokenizer.\n    from nltk import word_tokenize, sent_tokenize \n    # Testing whether it works. \n    # Sometimes it doesn't work on some machines because of setup issues.\n    word_tokenize(sent_tokenize(\"This is a foobar sentence. Yes it is.\")[0])\nexcept: # Use a naive sentence tokenizer and toktok.\n    import re\n    from nltk.tokenize import ToktokTokenizer\n    # See https://stackoverflow.com/a/25736515/610569\n    sent_tokenize = lambda x: re.split(r'(?<=[^A-Z].[.?]) +(?=[A-Z])', x)\n    # Use the toktok tokenizer that requires no dependencies.\n    toktok = ToktokTokenizer()\n    word_tokenize = word_tokenize = toktok.tokenize",
   "metadata": {
    "_uuid": "c679084566e711286d861a622e21ca5c04db7bee",
    "trusted": true
   },
   "execution_count": null,
   "outputs": []
  },
  {
   "cell_type": "code",
   "source": "import os\nimport requests\nimport io #codecs\n\n\n# Text version of https://kilgarriff.co.uk/Publications/2005-K-lineer.pdf\nif os.path.isfile('language-never-random.txt'):\n    with io.open('language-never-random.txt', encoding='utf8') as fin:\n        text = fin.read()\nelse:\n    url = \"https://gist.githubusercontent.com/alvations/53b01e4076573fea47c6057120bb017a/raw/b01ff96a5f76848450e648f35da6497ca9454e4a/language-never-random.txt\"\n    text = requests.get(url).content.decode('utf8')\n    with io.open('language-never-random.txt', 'w', encoding='utf8') as fout:\n        fout.write(text)",
   "metadata": {
    "_uuid": "9bb181f26fb777464b7d4e6d08beac724864cefe",
    "trusted": true
   },
   "execution_count": null,
   "outputs": []
  },
  {
   "cell_type": "code",
   "source": "# Tokenize the text.\ntokenized_text = [list(map(str.lower, word_tokenize(sent))) \n                  for sent in sent_tokenize(text)]",
   "metadata": {
    "_uuid": "af4102fcbf643e09319ca6394c175ca64082fd19",
    "trusted": true
   },
   "execution_count": null,
   "outputs": []
  },
  {
   "cell_type": "code",
   "source": "tokenized_text[0]",
   "metadata": {
    "_uuid": "9daa634f65b63882f7192a9489fba198970f3771",
    "trusted": true
   },
   "execution_count": null,
   "outputs": []
  },
  {
   "cell_type": "code",
   "source": "print(text[:500])",
   "metadata": {
    "_uuid": "91c93337cfea53b0c15a6e8617395dab872fb140",
    "trusted": true
   },
   "execution_count": null,
   "outputs": []
  },
  {
   "cell_type": "code",
   "source": "# Preprocess the tokenized text for 3-grams language modelling\nn = 3\ntrain_data, padded_sents = padded_everygram_pipeline(n, tokenized_text)",
   "metadata": {
    "_uuid": "3eef00b8b1a95043e1c8bdd6912ae22060198e5c",
    "trusted": true
   },
   "execution_count": null,
   "outputs": []
  },
  {
   "cell_type": "markdown",
   "source": "# Training an N-gram Model",
   "metadata": {
    "_uuid": "32c5ad89e3e61b143e940d50a0d0ee602dadfe3f"
   }
  },
  {
   "cell_type": "markdown",
   "source": "Having prepared our data we are ready to start training a model. As a simple example, let us train a Maximum Likelihood Estimator (MLE).\n\nWe only need to specify the highest ngram order to instantiate it.",
   "metadata": {
    "_uuid": "ff1ff506e3a14df8283cb93b0a45f86862d3e3c7"
   }
  },
  {
   "cell_type": "code",
   "source": "from nltk.lm import MLE\nmodel = MLE(n) # Lets train a 3-grams model, previously we set n=3",
   "metadata": {
    "_uuid": "2635458b0f3fed618bfae6a0705ccb11555bfb0b",
    "trusted": true
   },
   "execution_count": null,
   "outputs": []
  },
  {
   "cell_type": "markdown",
   "source": "Initializing the MLE model, creates an empty vocabulary",
   "metadata": {
    "_uuid": "69cdd0e5babaf059a7b9bc87dc0a6e261cef6cb2"
   }
  },
  {
   "cell_type": "code",
   "source": "len(model.vocab)",
   "metadata": {
    "_uuid": "93b95f89f020585dabfbcd6c41273c823a91e882",
    "trusted": true
   },
   "execution_count": null,
   "outputs": []
  },
  {
   "cell_type": "markdown",
   "source": "... which gets filled as we fit the model.",
   "metadata": {
    "_uuid": "fb567e332a0089c86e388a8c93f32d1a31737a29"
   }
  },
  {
   "cell_type": "code",
   "source": "model.fit(train_data, padded_sents)\nprint(model.vocab)",
   "metadata": {
    "_uuid": "a31ecc7f6df30a42df9ed6a79039b50f734299cf",
    "trusted": true
   },
   "execution_count": null,
   "outputs": []
  },
  {
   "cell_type": "code",
   "source": "len(model.vocab)",
   "metadata": {
    "_uuid": "6fd7e68c2cdacbe1901fd3b8c05c440706d19100",
    "trusted": true
   },
   "execution_count": null,
   "outputs": []
  },
  {
   "cell_type": "markdown",
   "source": "The vocabulary helps us handle words that have not occurred during training.",
   "metadata": {
    "_uuid": "74622c58a2df2ac08c8b0c79644d1f87f4014f44"
   }
  },
  {
   "cell_type": "code",
   "source": "print(model.vocab.lookup(tokenized_text[0]))",
   "metadata": {
    "_uuid": "e5670e34f9d1950f6a1515d57db18092d39484f2",
    "trusted": true
   },
   "execution_count": null,
   "outputs": []
  },
  {
   "cell_type": "code",
   "source": "# If we lookup the vocab on unseen sentences not from the training data, \n# it automatically replace words not in the vocabulary with `<UNK>`.\nprint(model.vocab.lookup('language is never random lah .'.split()))",
   "metadata": {
    "_uuid": "cfec70768e8976073dda05f702f3f210a33dc1c3",
    "trusted": true
   },
   "execution_count": null,
   "outputs": []
  },
  {
   "cell_type": "markdown",
   "source": "Moreover, in some cases we want to ignore words that we did see during training but that didn't occur frequently enough, to provide us useful information. \n\nYou can tell the vocabulary to ignore such words using the `unk_cutoff` argument for the vocabulary lookup, To find out how that works, check out the docs for the [`nltk.lm.vocabulary.Vocabulary` class](https://github.com/nltk/nltk/blob/develop/nltk/lm/vocabulary.py)",
   "metadata": {
    "_uuid": "83a71e4b25b53795dedce91c1a5686b7e22279e0"
   }
  },
  {
   "cell_type": "markdown",
   "source": "**Note:** For more sophisticated ngram models, take a look at [these objects from `nltk.lm.models`](https://github.com/nltk/nltk/blob/develop/nltk/lm/models.py):\n\n - `Lidstone`: Provides Lidstone-smoothed scores.\n - `Laplace`: Implements Laplace (add one) smoothing.\n - `InterpolatedLanguageModel`: Logic common to all interpolated language models (Chen & Goodman 1995).\n - `WittenBellInterpolated`: Interpolated version of Witten-Bell smoothing.",
   "metadata": {
    "_uuid": "b0310a2f3c7d9e90f4574b44838336ca1e4ef2ef"
   }
  },
  {
   "cell_type": "markdown",
   "source": "# Using the N-gram Language Model",
   "metadata": {
    "_uuid": "af5a0851a2f8707ea2e172681342ed3ecd872328"
   }
  },
  {
   "cell_type": "markdown",
   "source": "When it comes to ngram models the training boils down to counting up the ngrams from the training corpus.",
   "metadata": {
    "_uuid": "d098fd4686bcdc0ab9aa72dbbd4b62a17ee2c332"
   }
  },
  {
   "cell_type": "code",
   "source": "print(model.counts)",
   "metadata": {
    "_uuid": "bfc60d61539269298390044c0d3415bfd28e2b1e",
    "trusted": true
   },
   "execution_count": null,
   "outputs": []
  },
  {
   "cell_type": "markdown",
   "source": "This provides a convenient interface to access counts for unigrams...",
   "metadata": {
    "_uuid": "e9b8cac68de80aee9c7cf7b7f2faf2b199ad27cc"
   }
  },
  {
   "cell_type": "code",
   "source": "model.counts['language'] # i.e. Count('language')",
   "metadata": {
    "_uuid": "90f4611580c41118747a42cfac4c9d729f02523f",
    "trusted": true
   },
   "execution_count": null,
   "outputs": []
  },
  {
   "cell_type": "markdown",
   "source": "...and bigrams for the phrase \"language is\"",
   "metadata": {
    "_uuid": "ccdf1bf83ba16f0a43f04eb96ca224a968cc81d2"
   }
  },
  {
   "cell_type": "code",
   "source": "model.counts[['language']]['is'] # i.e. Count('is'|'language')",
   "metadata": {
    "_uuid": "3ba55a83d7c052d1f14923c4046a5f6c86d72c8c",
    "trusted": true
   },
   "execution_count": null,
   "outputs": []
  },
  {
   "cell_type": "markdown",
   "source": "... and trigrams for the phrase \"language is never\"",
   "metadata": {
    "_uuid": "88bceda0a01e9f2642dd30a6b341c24a606720b9"
   }
  },
  {
   "cell_type": "code",
   "source": "model.counts[['language', 'is']]['never'] # i.e. Count('never'|'language is')",
   "metadata": {
    "_uuid": "813e30e1fb153002cfb020d430def2510bf43bbc",
    "trusted": true
   },
   "execution_count": null,
   "outputs": []
  },
  {
   "cell_type": "markdown",
   "source": "And so on. However, the real purpose of training a language model is to have it score how probable words are in certain contexts.\n\nThis being MLE, the model returns the item's relative frequency as its score.",
   "metadata": {
    "_uuid": "2c4338d351cfc3cd785673ad9581ecab161b24c6"
   }
  },
  {
   "cell_type": "code",
   "source": "model.score('language') # P('language')",
   "metadata": {
    "_uuid": "051ef5a06c004a8e8ddb6168ca318bc8c0c9abf4",
    "trusted": true
   },
   "execution_count": null,
   "outputs": []
  },
  {
   "cell_type": "code",
   "source": "model.score('is', 'language'.split())  # P('is'|'language')",
   "metadata": {
    "_uuid": "ab3d48919b8f074342e624a1da441621829a4dbd",
    "trusted": true
   },
   "execution_count": null,
   "outputs": []
  },
  {
   "cell_type": "code",
   "source": "model.score('never', 'language is'.split())  # P('never'|'language is')",
   "metadata": {
    "_uuid": "73955908d499f459e19c2cbfaec7d94c513acb91",
    "trusted": true
   },
   "execution_count": null,
   "outputs": []
  },
  {
   "cell_type": "markdown",
   "source": "Items that are not seen during training are mapped to the vocabulary's \"unknown label\" token.  This is \"<UNK>\" by default.\n",
   "metadata": {
    "_uuid": "946dde75e8d5b8d8878271359b0d91926abeb199"
   }
  },
  {
   "cell_type": "code",
   "source": "model.score(\"<UNK>\") == model.score(\"lah\")",
   "metadata": {
    "_uuid": "44038e8cd8d078b734a6b1a803d0795517e2fa82",
    "trusted": true
   },
   "execution_count": null,
   "outputs": []
  },
  {
   "cell_type": "code",
   "source": "model.score(\"<UNK>\") == model.score(\"leh\")",
   "metadata": {
    "_uuid": "f2f170a0bbca4b33b5eb1a55a55f0e1b1b18a634",
    "trusted": true
   },
   "execution_count": null,
   "outputs": []
  },
  {
   "cell_type": "code",
   "source": "model.score(\"<UNK>\") == model.score(\"lor\")",
   "metadata": {
    "_uuid": "9107d1a7c27f30a449e9f370002a6406d5a1396d",
    "trusted": true
   },
   "execution_count": null,
   "outputs": []
  },
  {
   "cell_type": "markdown",
   "source": "To avoid underflow when working with many small score values it makes sense to take their logarithm. \n\nFor convenience this can be done with the `logscore` method.\n",
   "metadata": {
    "_uuid": "1a9ad0be90c72ece6c2a1c00314ea60f41a00f81"
   }
  },
  {
   "cell_type": "code",
   "source": "model.logscore(\"never\", \"language is\".split())",
   "metadata": {
    "_uuid": "20ef81b7e161df3b9ab27236c33559713b3077ce",
    "trusted": true
   },
   "execution_count": null,
   "outputs": []
  },
  {
   "cell_type": "markdown",
   "source": "# Generation using N-gram Language Model",
   "metadata": {
    "_uuid": "18f9e0a8d0aba302532b8a84f342d1bf4d3e202a"
   }
  },
  {
   "cell_type": "markdown",
   "source": "One cool feature of ngram models is that they can be used to generate text.",
   "metadata": {
    "_uuid": "f893159fe093aef484c07b37d922de4ac5727834"
   }
  },
  {
   "cell_type": "code",
   "source": "print(model.generate(20, random_seed=7))",
   "metadata": {
    "_uuid": "98989ec4bae592fc98332e759daf9e42bac4213e",
    "trusted": true
   },
   "execution_count": null,
   "outputs": []
  },
  {
   "cell_type": "markdown",
   "source": "We can do some cleaning to the generated tokens to make it human-like.",
   "metadata": {
    "_uuid": "3b8d07eaf3afae978131573ae127fa0ec3f2e50d"
   }
  },
  {
   "cell_type": "code",
   "source": "from nltk.tokenize.treebank import TreebankWordDetokenizer\n\ndetokenize = TreebankWordDetokenizer().detokenize\n\ndef generate_sent(model, num_words, random_seed=42):\n    \"\"\"\n    :param model: An ngram language model from `nltk.lm.model`.\n    :param num_words: Max no. of words to generate.\n    :param random_seed: Seed value for random.\n    \"\"\"\n    content = []\n    for token in model.generate(num_words, random_seed=random_seed):\n        if token == '<s>':\n            continue\n        if token == '</s>':\n            break\n        content.append(token)\n    return detokenize(content)",
   "metadata": {
    "_uuid": "73d0d5e0029e64876100e0f2e368b4835a99efcd",
    "trusted": true
   },
   "execution_count": null,
   "outputs": []
  },
  {
   "cell_type": "code",
   "source": "generate_sent(model, 20, random_seed=7)",
   "metadata": {
    "_uuid": "949378240cbc8247579b79946b113a3afd039b39",
    "trusted": true
   },
   "execution_count": null,
   "outputs": []
  },
  {
   "cell_type": "code",
   "source": "print(model.generate(28, random_seed=0))",
   "metadata": {
    "_uuid": "9041c514e0458236132fe9b3c42ac2ce651beb92",
    "trusted": true
   },
   "execution_count": null,
   "outputs": []
  },
  {
   "cell_type": "code",
   "source": "generate_sent(model, 28, random_seed=0)",
   "metadata": {
    "_uuid": "523e7c2373f6a4c4b6a542f1e82369fedb6cbd21",
    "trusted": true
   },
   "execution_count": null,
   "outputs": []
  },
  {
   "cell_type": "code",
   "source": "generate_sent(model, 20, random_seed=1)",
   "metadata": {
    "_uuid": "bce2885bd22d0bb1f79c3861f10fde7df6714e40",
    "trusted": true
   },
   "execution_count": null,
   "outputs": []
  },
  {
   "cell_type": "code",
   "source": "generate_sent(model, 20, random_seed=30)",
   "metadata": {
    "_uuid": "90ddb0e7d0fb52bc77d08425331944c55ee0885e",
    "trusted": true
   },
   "execution_count": null,
   "outputs": []
  },
  {
   "cell_type": "code",
   "source": "generate_sent(model, 20, random_seed=42)",
   "metadata": {
    "_uuid": "ba9546c6800d9e0b0f0af4f0fd31a141af93b12f",
    "trusted": true
   },
   "execution_count": null,
   "outputs": []
  },
  {
   "cell_type": "markdown",
   "source": "# Saving the model \n\nThe native Python's pickle may not save the lambda functions in the  model, so we can use the `dill` library in place of pickle to save and load the language model.\n",
   "metadata": {}
  },
  {
   "cell_type": "code",
   "source": "import dill as pickle \n\nwith open('kilgariff_ngram_model.pkl', 'wb') as fout:\n    pickle.dump(model, fout)",
   "metadata": {
    "trusted": true
   },
   "execution_count": null,
   "outputs": []
  },
  {
   "cell_type": "code",
   "source": "with open('kilgariff_ngram_model.pkl', 'rb') as fin:\n    model_loaded = pickle.load(fin)",
   "metadata": {
    "trusted": true
   },
   "execution_count": null,
   "outputs": []
  },
  {
   "cell_type": "code",
   "source": "generate_sent(model_loaded, 20, random_seed=42)",
   "metadata": {
    "trusted": true
   },
   "execution_count": null,
   "outputs": []
  },
  {
   "cell_type": "markdown",
   "source": "# Lets try some generating with Donald Trump data!!!\n\n\n**Dataset:** https://www.kaggle.com/kingburrito666/better-donald-trump-tweets#Donald-Tweets!.csv\n\n\nIn this part, I'll be munging that data as how I would be doing it at work. \nI've really no seen the data before but I hope this session would be helpful for you to see how to approach new datasets with the skills you have.",
   "metadata": {
    "_uuid": "e4f13ed7359c87e397229104c1bcf18eb20603ad"
   }
  },
  {
   "cell_type": "code",
   "source": "import pandas as pd\ndf = pd.read_csv('../input/Donald-Tweets!.csv')\ndf.head()",
   "metadata": {
    "_uuid": "caf5fea33f84e06c3cf613136ec33f80e774fc98",
    "trusted": true
   },
   "execution_count": null,
   "outputs": []
  },
  {
   "cell_type": "code",
   "source": "trump_corpus = list(df['Tweet_Text'].apply(word_tokenize))",
   "metadata": {
    "_uuid": "a15d9d1a754ca357ae79e8390069b08b05320458",
    "trusted": true
   },
   "execution_count": null,
   "outputs": []
  },
  {
   "cell_type": "code",
   "source": "# Preprocess the tokenized text for 3-grams language modelling\nn = 3\ntrain_data, padded_sents = padded_everygram_pipeline(n, trump_corpus)",
   "metadata": {
    "_uuid": "8724b8724cc52b685205047bd1fda649545a6a24",
    "trusted": true
   },
   "execution_count": null,
   "outputs": []
  },
  {
   "cell_type": "code",
   "source": "from nltk.lm import MLE\ntrump_model = MLE(n) # Lets train a 3-grams model, previously we set n=3\ntrump_model.fit(train_data, padded_sents)",
   "metadata": {
    "_uuid": "c5010b607062f6f2dd0ccf011bb9004e1e3dcee7",
    "trusted": true
   },
   "execution_count": null,
   "outputs": []
  },
  {
   "cell_type": "code",
   "source": "generate_sent(trump_model, num_words=20, random_seed=42)",
   "metadata": {
    "_uuid": "8036f1ae5e0e1438d1d2981026766cdacd4479aa",
    "trusted": true
   },
   "execution_count": null,
   "outputs": []
  },
  {
   "cell_type": "code",
   "source": "generate_sent(trump_model, num_words=10, random_seed=0)",
   "metadata": {
    "_uuid": "defe4e4899cb14300710eb0c7786a6f2e894455d",
    "trusted": true
   },
   "execution_count": null,
   "outputs": []
  },
  {
   "cell_type": "code",
   "source": "generate_sent(trump_model, num_words=50, random_seed=10)",
   "metadata": {
    "_uuid": "eba7934efa5a5e6b818e951c5daec9e9f621ca26",
    "trusted": true
   },
   "execution_count": null,
   "outputs": []
  },
  {
   "cell_type": "code",
   "source": "print(generate_sent(trump_model, num_words=100, random_seed=52))",
   "metadata": {
    "_uuid": "3ec48d8d44b2f57b16249e12b845f43f52faadca",
    "trusted": true
   },
   "execution_count": null,
   "outputs": []
  },
  {
   "cell_type": "code",
   "source": "",
   "metadata": {
    "_uuid": "2567d003d69c26233b915df03509b3fd014beed4",
    "trusted": true
   },
   "execution_count": null,
   "outputs": []
  }
 ]
}